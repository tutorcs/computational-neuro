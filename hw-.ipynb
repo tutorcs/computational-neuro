{
 "cells": [
  {
   "cell_type": "markdown",
   "id": "fe8688f1",
   "metadata": {},
   "source": [
    "\n",
    "\n",
    "An electrocardiogram (ECG, also called an EKG) records electrical signals from the heart and is routinely used to quickly detect heart problems and monitor the heart's health. \n",
    "We will use the methods discussed in class for nonlinear ODE modeling and simulation to implement a simplified model for generating realistic ECG signals, and will then use phase response analysis to characterize the corresponding limit cycles. This problem is based on the [paper](https://www.nature.com/articles/s41598-019-55448-5). "
   ]
  },
  {
   "cell_type": "markdown",
   "id": "cbf94812",
   "metadata": {},
   "source": [
    "## Tasks \n",
    "\n",
    "1. Read the paper, and prove (show your steps) that the model described by equations (2) indeed reduce to the model defined by equations (3) for the initial condition: $x_2(0) = x_6(0)$ and $\\dot{x}_2(0) = \\dot{x}_6(0)$. \n",
    "2. Simulate the model defined by the set of equations (3) and (4). Use $\\alpha_1=-0.024, \\alpha_2=0.0216, \\alpha_3=-0.0012, \\alpha_4=0.12, C=1.35, \\beta=4, H=3$ and initial conditions $x_1=0.0, x_2=0.0, x_3=0.1, x_4=0.0$, along with a timestep of $dt=10^{-4}s$.\n",
    "3. Compute the BPM from your simulation to verify that the formula for the multiplicative constant $\\Gamma_t$ given by (5) is valid. \n",
    "4. Choose $\\Gamma_t$ so that you get 100 BPM from your model. Use Winfree's method to estimate the Phase Response Curve of the ECG signal with respect to (i) $x_2$ (SA node), and (ii) $x_4$ (AV node). \n",
    "5. [Bonus]: Compare your result from Q.4(i) against the SA node plot given in Figure 4(a) of this [paper](https://link.springer.com/content/pdf/10.1114/1.1553455.pdf). Note that you will have to report the PRC in a slightly different way to make this comparison (refer to the paper for details). \n",
    "6. [Further reading]: We can also incorporate breathing and how it couples with the heart's rhythm into an ECG model, and non-invasively estimate the joint phase response manifold and phase-coupling functions for this model. Details can be found in this [paper](https://www.nature.com/articles/ncomms3418). "
   ]
  },
  {
   "cell_type": "markdown",
   "id": "d2763a33",
   "metadata": {},
   "source": [
    "### [Your answer for Task 1] "
   ]
  },
  {
   "cell_type": "code",
   "execution_count": null,
   "id": "ced9b98c",
   "metadata": {},
   "outputs": [],
   "source": [
    "# import libraries\n",
    "import numpy as np\n",
    "import matplotlib.pyplot as plt\n",
    "from collections import OrderedDict\n",
    "from compneuro.base_model import BaseModel\n",
    "from compneuro.utils.signal import spike_detect"
   ]
  },
  {
   "cell_type": "code",
   "execution_count": null,
   "id": "791ba5c1",
   "metadata": {},
   "outputs": [],
   "source": [
    "# define ECG model\n",
    "## you can inherit from BaseModel if you wish to use CompNeuro to simulate your model"
   ]
  },
  {
   "cell_type": "code",
   "execution_count": null,
   "id": "824b55b2",
   "metadata": {},
   "outputs": [],
   "source": [
    "# instantiate model and simulation parameters\n",
    "dt = 1e-4  # set time step\n",
    "t = np.arange(0, 10, dt)  # set time course\n",
    "## Your model here\n",
    "## Simulate your model\n",
    "## Plot resultant ECG signal"
   ]
  },
  {
   "cell_type": "code",
   "execution_count": null,
   "id": "3916876e",
   "metadata": {},
   "outputs": [],
   "source": [
    "## Plot estimated BPM for various Gamma_t\n",
    "## On the same plot, compare BPM based on the formula (5) to verify its validity   "
   ]
  },
  {
   "cell_type": "code",
   "execution_count": null,
   "id": "c889b8ac",
   "metadata": {},
   "outputs": [],
   "source": [
    "## Use (5) to choose Gamma_t for 100 BPM for the rest of the assignment\n",
    "## Compute and plot the PRC of the ECG signal with respect to x_2 (SA node)\n",
    "winfree_steps = 100\n",
    "perturbation_amp = -0.1"
   ]
  },
  {
   "cell_type": "code",
   "execution_count": null,
   "id": "f7cbf37c",
   "metadata": {},
   "outputs": [],
   "source": [
    "## Compute and plot the PRC of the ECG signal with respect to x_4 (AV node)\n",
    "winfree_steps = 100\n",
    "perturbation_amp = 0.1"
   ]
  }
 ],
 "metadata": {
  "kernelspec": {
   "display_name": "Python 3 (ipykernel)",
   "language": "python",
   "name": "python3"
  },
  "language_info": {
   "codemirror_mode": {
    "name": "ipython",
    "version": 3
   },
   "file_extension": ".py",
   "mimetype": "text/x-python",
   "name": "python",
   "nbconvert_exporter": "python",
   "pygments_lexer": "ipython3",
   "version": "3.9.12"
  }
 },
 "nbformat": 4,
 "nbformat_minor": 5
}
